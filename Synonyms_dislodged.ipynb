{
  "nbformat": 4,
  "nbformat_minor": 0,
  "metadata": {
    "colab": {
      "name": "Synonyms_dislodged",
      "provenance": [],
      "include_colab_link": true
    },
    "kernelspec": {
      "name": "python3",
      "display_name": "Python 3"
    },
    "language_info": {
      "name": "python"
    }
  },
  "cells": [
    {
      "cell_type": "markdown",
      "metadata": {
        "id": "view-in-github",
        "colab_type": "text"
      },
      "source": [
        "<a href=\"https://colab.research.google.com/github/SofyaKirsanova/Log_Analysis/blob/main/Synonyms_dislodged.ipynb\" target=\"_parent\"><img src=\"https://colab.research.google.com/assets/colab-badge.svg\" alt=\"Open In Colab\"/></a>"
      ]
    },
    {
      "cell_type": "markdown",
      "metadata": {
        "id": "Eew7aqI2mxQZ"
      },
      "source": [
        "Подключается база данных WordNet для начального поиска слов в ней. Далее этот алгоритм будет подключен к написанному преобразованию слов в векторы"
      ]
    },
    {
      "cell_type": "code",
      "metadata": {
        "colab": {
          "base_uri": "https://localhost:8080/"
        },
        "id": "WyLA1c_lk_jP",
        "outputId": "6cf9f296-1d24-4b6b-b102-a017548f1d92"
      },
      "source": [
        "import nltk\n",
        "nltk.download('averaged_perceptron_tagger')\n",
        "nltk.download('punkt')\n",
        "nltk.download('wordnet')\n",
        "from nltk.corpus import wordnet as wn\n",
        "from textblob import TextBlob"
      ],
      "execution_count": null,
      "outputs": [
        {
          "output_type": "stream",
          "name": "stdout",
          "text": [
            "[nltk_data] Downloading package averaged_perceptron_tagger to\n",
            "[nltk_data]     /root/nltk_data...\n",
            "[nltk_data]   Package averaged_perceptron_tagger is already up-to-\n",
            "[nltk_data]       date!\n",
            "[nltk_data] Downloading package punkt to /root/nltk_data...\n",
            "[nltk_data]   Package punkt is already up-to-date!\n",
            "[nltk_data] Downloading package wordnet to /root/nltk_data...\n",
            "[nltk_data]   Package wordnet is already up-to-date!\n"
          ]
        }
      ]
    },
    {
      "cell_type": "code",
      "metadata": {
        "id": "IXgL6-vWx0v9"
      },
      "source": [
        "def synonyms(ask):    \n",
        "    blob = TextBlob(ask)\n",
        "    y=list()\n",
        "    for word, pos in blob.tags:\n",
        "        y.append(pos) #Getting the POS tag of the word\n",
        "    \n",
        "    indices = [j for j, i in enumerate(y) if i == 'VB'or i == 'VBZ' or i =='VBP' or i =='VBD' or i == 'VBN'\n",
        "        or i == 'VBG' or i == 'RB' or i == 'RBR' or i == 'RBS'or i == 'RP'\n",
        "        or i == 'VP ' or i == 'ADVP' or i == 'ADJP' or i=='JJ' or i == 'JJR' or i == 'JJS'] #Condition if you want to get synonyms only for certain POS and get the indices\n",
        "        \n",
        "    z=list()\n",
        "    for i in indices:\n",
        "        z.append(blob.words[i]) #Getting words from those indices\n",
        "        \n",
        "    def synset(word): #Function to get synonyms\n",
        "        return wn.synsets(word)\n",
        "        \n",
        "    a=list()   \n",
        "    for i in z:\n",
        "        a.append(synset(i))\n",
        "        \n",
        "    if (len(a)>0): #This whole loop is to get only top 3 synonyms for each word\n",
        "        b=list()\n",
        "        for i in range(len(a)):\n",
        "            if (len(a[i])>=3):\n",
        "                for j in range(3):\n",
        "                    b.append( a[i][j])\n",
        "            \n",
        "        c = list()\n",
        "        for i in b: #This loop is to get the actual only synonyms without the extra characters like \"synset\"\n",
        "            name, pos, sid = i.name().split('.')\n",
        "            c.append(name)\n",
        "        \n",
        "        d = [c[x:x+3] for x in range(0, len(c),3)] #Grouping each set of 3 synonyms to different groups\n",
        "        \n",
        "        for i, j in zip(z,range(len(d))):  #Replacing each word with synonyms keeping rest sentence same\n",
        "            for k in range(3):  \n",
        "                yield (ask.replace(i,d[j][k]))"
      ],
      "execution_count": null,
      "outputs": []
    },
    {
      "cell_type": "code",
      "metadata": {
        "colab": {
          "base_uri": "https://localhost:8080/"
        },
        "id": "QluiGuz4lBDP",
        "outputId": "53ce86a3-0659-4ea1-911f-4276b1122204"
      },
      "source": [
        "print(list(synonyms(\"letter\")))"
      ],
      "execution_count": null,
      "outputs": [
        {
          "output_type": "stream",
          "name": "stdout",
          "text": [
            "[]\n"
          ]
        }
      ]
    }
  ]
}